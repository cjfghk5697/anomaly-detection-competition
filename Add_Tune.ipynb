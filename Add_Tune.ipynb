{
  "cells": [
    {
      "cell_type": "markdown",
      "metadata": {
        "id": "view-in-github",
        "colab_type": "text"
      },
      "source": [
        "<a href=\"https://colab.research.google.com/github/cjfghk5697/anomaly-detection-competition/blob/main/Add_Tune.ipynb\" target=\"_parent\"><img src=\"https://colab.research.google.com/assets/colab-badge.svg\" alt=\"Open In Colab\"/></a>"
      ]
    },
    {
      "cell_type": "markdown",
      "metadata": {
        "id": "9IbKCV5mvcNt"
      },
      "source": [
        "# 기록\n",
        "\n",
        "## 07-16\n",
        "Tune 기능 추가\n",
        "\n",
        "RAM 메모리 문제로 못하는 중이다. 주말되면 memory limit 걸어볼 예정이다."
      ],
      "id": "9IbKCV5mvcNt"
    },
    {
      "cell_type": "markdown",
      "metadata": {
        "id": "CZ-sBHD67ara"
      },
      "source": [
        "https://dacon.io/competitions/official/235894/overview/description"
      ],
      "id": "CZ-sBHD67ara"
    },
    {
      "cell_type": "code",
      "execution_count": null,
      "metadata": {
        "colab": {
          "base_uri": "https://localhost:8080/"
        },
        "id": "PzCathkdclQi",
        "outputId": "b3c5b57d-d671-47d8-d54c-5c8a4a77ca68"
      },
      "outputs": [
        {
          "output_type": "stream",
          "name": "stdout",
          "text": [
            "Drive already mounted at /content/drive; to attempt to forcibly remount, call drive.mount(\"/content/drive\", force_remount=True).\n"
          ]
        }
      ],
      "source": [
        "from google.colab import drive\n",
        "drive.mount('/content/drive')"
      ],
      "id": "PzCathkdclQi"
    },
    {
      "cell_type": "code",
      "execution_count": null,
      "metadata": {
        "colab": {
          "base_uri": "https://localhost:8080/"
        },
        "id": "XT1TIhwClLco",
        "outputId": "a091501d-4ad7-456e-fb8f-758b3c1da580"
      },
      "outputs": [
        {
          "output_type": "stream",
          "name": "stdout",
          "text": [
            "/content/drive/MyDrive/input\n"
          ]
        }
      ],
      "source": [
        "%cd \"/content/drive/MyDrive/input/\"\n",
        "#!unzip -q \"/content/drive/MyDrive/input/train.zip\" "
      ],
      "id": "XT1TIhwClLco"
    },
    {
      "cell_type": "code",
      "execution_count": null,
      "metadata": {
        "id": "oFbYUT85c21S"
      },
      "outputs": [],
      "source": [
        "#!pip3 install timm"
      ],
      "id": "oFbYUT85c21S"
    },
    {
      "cell_type": "code",
      "source": [
        "!pip install -U ray"
      ],
      "metadata": {
        "colab": {
          "base_uri": "https://localhost:8080/"
        },
        "id": "y5zBWLjOSEZ0",
        "outputId": "f380f385-51ed-482a-af4b-30679fd72e56"
      },
      "id": "y5zBWLjOSEZ0",
      "execution_count": null,
      "outputs": [
        {
          "output_type": "stream",
          "name": "stdout",
          "text": [
            "Looking in indexes: https://pypi.org/simple, https://us-python.pkg.dev/colab-wheels/public/simple/\n",
            "Requirement already satisfied: ray in /usr/local/lib/python3.7/dist-packages (1.13.0)\n",
            "Requirement already satisfied: virtualenv in /usr/local/lib/python3.7/dist-packages (from ray) (20.15.1)\n",
            "Requirement already satisfied: frozenlist in /usr/local/lib/python3.7/dist-packages (from ray) (1.3.0)\n",
            "Requirement already satisfied: attrs in /usr/local/lib/python3.7/dist-packages (from ray) (21.4.0)\n",
            "Requirement already satisfied: jsonschema in /usr/local/lib/python3.7/dist-packages (from ray) (4.3.3)\n",
            "Requirement already satisfied: msgpack<2.0.0,>=1.0.0 in /usr/local/lib/python3.7/dist-packages (from ray) (1.0.4)\n",
            "Requirement already satisfied: protobuf<4.0.0,>=3.15.3 in /usr/local/lib/python3.7/dist-packages (from ray) (3.17.3)\n",
            "Requirement already satisfied: filelock in /usr/local/lib/python3.7/dist-packages (from ray) (3.7.1)\n",
            "Requirement already satisfied: grpcio<=1.43.0,>=1.28.1 in /usr/local/lib/python3.7/dist-packages (from ray) (1.43.0)\n",
            "Requirement already satisfied: numpy>=1.16 in /usr/local/lib/python3.7/dist-packages (from ray) (1.21.6)\n",
            "Requirement already satisfied: pyyaml in /usr/local/lib/python3.7/dist-packages (from ray) (3.13)\n",
            "Requirement already satisfied: click<=8.0.4,>=7.0 in /usr/local/lib/python3.7/dist-packages (from ray) (7.1.2)\n",
            "Requirement already satisfied: aiosignal in /usr/local/lib/python3.7/dist-packages (from ray) (1.2.0)\n",
            "Requirement already satisfied: requests in /usr/local/lib/python3.7/dist-packages (from ray) (2.23.0)\n",
            "Requirement already satisfied: six>=1.5.2 in /usr/local/lib/python3.7/dist-packages (from grpcio<=1.43.0,>=1.28.1->ray) (1.15.0)\n",
            "Requirement already satisfied: typing-extensions in /usr/local/lib/python3.7/dist-packages (from jsonschema->ray) (4.1.1)\n",
            "Requirement already satisfied: pyrsistent!=0.17.0,!=0.17.1,!=0.17.2,>=0.14.0 in /usr/local/lib/python3.7/dist-packages (from jsonschema->ray) (0.18.1)\n",
            "Requirement already satisfied: importlib-resources>=1.4.0 in /usr/local/lib/python3.7/dist-packages (from jsonschema->ray) (5.8.0)\n",
            "Requirement already satisfied: importlib-metadata in /usr/local/lib/python3.7/dist-packages (from jsonschema->ray) (4.12.0)\n",
            "Requirement already satisfied: zipp>=3.1.0 in /usr/local/lib/python3.7/dist-packages (from importlib-resources>=1.4.0->jsonschema->ray) (3.8.0)\n",
            "Requirement already satisfied: urllib3!=1.25.0,!=1.25.1,<1.26,>=1.21.1 in /usr/local/lib/python3.7/dist-packages (from requests->ray) (1.24.3)\n",
            "Requirement already satisfied: certifi>=2017.4.17 in /usr/local/lib/python3.7/dist-packages (from requests->ray) (2022.6.15)\n",
            "Requirement already satisfied: idna<3,>=2.5 in /usr/local/lib/python3.7/dist-packages (from requests->ray) (2.10)\n",
            "Requirement already satisfied: chardet<4,>=3.0.2 in /usr/local/lib/python3.7/dist-packages (from requests->ray) (3.0.4)\n",
            "Requirement already satisfied: platformdirs<3,>=2 in /usr/local/lib/python3.7/dist-packages (from virtualenv->ray) (2.5.2)\n",
            "Requirement already satisfied: distlib<1,>=0.3.1 in /usr/local/lib/python3.7/dist-packages (from virtualenv->ray) (0.3.5)\n"
          ]
        }
      ]
    },
    {
      "cell_type": "code",
      "execution_count": null,
      "metadata": {
        "id": "QAYn-e555h3X"
      },
      "outputs": [],
      "source": [
        "import warnings\n",
        "warnings.filterwarnings('ignore')\n",
        "from ray import tune\n",
        "import torch.optim as optim\n",
        "\n",
        "from glob import glob\n",
        "import pandas as pd\n",
        "import numpy as np \n",
        "from tqdm import tqdm\n",
        "import cv2\n",
        "\n",
        "import os\n",
        "#import timm\n",
        "import random\n",
        "from typing import Tuple, Sequence, Callable\n",
        "from sklearn.metrics import f1_score, accuracy_score\n",
        "\n",
        "import torch\n",
        "from torch.utils.data import Dataset, DataLoader\n",
        "import torch.nn as nn\n",
        "import torchvision.transforms as transforms\n",
        "import time\n",
        "from PIL import Image\n",
        "import cv2\n",
        "\n",
        "from torchvision.models import efficientnet_v2_s\n",
        "\n",
        "device = torch.device('cuda')"
      ],
      "id": "QAYn-e555h3X"
    },
    {
      "cell_type": "code",
      "execution_count": null,
      "metadata": {
        "id": "4hqIke8a5h3Y"
      },
      "outputs": [],
      "source": [
        "train_png = sorted(glob('./train/*.png'))"
      ],
      "id": "4hqIke8a5h3Y"
    },
    {
      "cell_type": "code",
      "execution_count": null,
      "metadata": {
        "id": "QqVmNfwZ5h3Z"
      },
      "outputs": [],
      "source": [
        "train_y = pd.read_csv('./train_df.csv')\n",
        "\n",
        "train_labels = train_y[\"label\"]\n",
        "\n",
        "label_unique = sorted(np.unique(train_labels))\n",
        "label_unique = {key:value for key,value in zip(label_unique, range(len(label_unique)))}\n",
        "\n",
        "train_labels = [label_unique[k] for k in train_labels]"
      ],
      "id": "QqVmNfwZ5h3Z"
    },
    {
      "cell_type": "code",
      "execution_count": null,
      "metadata": {
        "id": "qo8oWVcz5h3Z"
      },
      "outputs": [],
      "source": [
        "def img_load(path):\n",
        "    img = cv2.imread(path)[:,:,::-1]\n",
        "    img = cv2.resize(img, (512, 512))\n",
        "    return img"
      ],
      "id": "qo8oWVcz5h3Z"
    },
    {
      "cell_type": "code",
      "execution_count": null,
      "metadata": {
        "colab": {
          "base_uri": "https://localhost:8080/"
        },
        "id": "ErXkcD7d5h3a",
        "outputId": "70ce10e0-a637-48ca-aefa-fe047ec964e2"
      },
      "outputs": [
        {
          "output_type": "stream",
          "name": "stderr",
          "text": [
            "100%|██████████| 4277/4277 [02:32<00:00, 28.13it/s]\n"
          ]
        }
      ],
      "source": [
        "train_imgs = [img_load(m) for m in tqdm(train_png)]"
      ],
      "id": "ErXkcD7d5h3a"
    },
    {
      "cell_type": "code",
      "execution_count": null,
      "metadata": {
        "id": "aQfAK_29vky9"
      },
      "outputs": [],
      "source": [
        "transforms_train = transforms.Compose([\n",
        "    transforms.ToTensor(),\n",
        "    transforms.Normalize(\n",
        "        [0.485, 0.456, 0.406],\n",
        "        [0.229, 0.224, 0.225]\n",
        "    )\n",
        "])\n"
      ],
      "id": "aQfAK_29vky9"
    },
    {
      "cell_type": "code",
      "execution_count": null,
      "metadata": {
        "id": "GVB5_Crz5h3a"
      },
      "outputs": [],
      "source": [
        "class Custom_dataset(Dataset):\n",
        "    def __init__(self, \n",
        "                 img_paths, \n",
        "                 labels, \n",
        "                 mode='train',\n",
        "                 transforms= Sequence[Callable]\n",
        "            ) -> None:\n",
        "        self.img_paths = img_paths\n",
        "        self.labels = labels\n",
        "        self.mode=mode\n",
        "        self.transforms = transforms\n",
        "\n",
        "    def __len__(self):\n",
        "        return len(self.img_paths)\n",
        "    def __getitem__(self, idx):\n",
        "        img = self.img_paths[idx]\n",
        "        if self.mode=='train':\n",
        "            augmentation = random.randint(0,2)\n",
        "            if augmentation==1:\n",
        "                img = img[::-1].copy()\n",
        "            elif augmentation==2:\n",
        "                img = img[:,::-1].copy()\n",
        "        if self.mode=='test':\n",
        "            pass\n",
        "        img = Image.fromarray(img) # NumPy array to PIL image\n",
        "        if self.transforms is not None:\n",
        "            img = self.transforms(img)        \n",
        "        label = self.labels[idx]\n",
        "        return img, label\n",
        "    \n",
        "class Network(nn.Module):\n",
        "    def __init__(self):\n",
        "        super(Network, self).__init__()\n",
        "        self.model = efficientnet_v2_s(pretrained=True)\n",
        "        self.dropout=nn.Dropout(p=0.2)\n",
        "        self.SiLU=nn.SiLU(inplace=False)\n",
        "        self.classifier = nn.Linear(1000, 88)\n",
        "        nn.init.xavier_normal_(self.classifier.weight)\n",
        "\n",
        "    def forward(self, x):\n",
        "        x = self.model(x)\n",
        "        x = self.dropout(x)\n",
        "        x = self.SiLU(x) \n",
        "        x = self.classifier(x)\n",
        "\n",
        "        return x"
      ],
      "id": "GVB5_Crz5h3a"
    },
    {
      "cell_type": "code",
      "execution_count": null,
      "metadata": {
        "id": "cbhpWtL45h3b"
      },
      "outputs": [],
      "source": [
        "batch_size = 2\n",
        "epochs = 10\n",
        "\n",
        "# Train\n",
        "trainset  = Custom_dataset(np.array(train_imgs), np.array(train_labels), mode='train', transforms=transforms_train)\n",
        "lengths = [int(len(trainset)*0.8), int(len(trainset)*0.2)]\n"
      ],
      "id": "cbhpWtL45h3b"
    },
    {
      "cell_type": "code",
      "execution_count": null,
      "metadata": {
        "id": "jzqumLFE4ATy"
      },
      "outputs": [],
      "source": [
        "lengths=[lengths[0],lengths[1]+1]\n",
        "train_dataset, valid_dataset = torch.utils.data.random_split(trainset, lengths)"
      ],
      "id": "jzqumLFE4ATy"
    },
    {
      "cell_type": "code",
      "source": [
        "def score_function(real, pred):\n",
        "    score = f1_score(real, pred, average=\"macro\")\n",
        "    return score"
      ],
      "metadata": {
        "id": "8QvY_OJSTFZm"
      },
      "id": "8QvY_OJSTFZm",
      "execution_count": null,
      "outputs": []
    },
    {
      "cell_type": "code",
      "source": [
        "train_loader = DataLoader(train_dataset, shuffle=True, batch_size=batch_size)\n",
        "model = Network().to(device)\n",
        "\n",
        "def train(config):\n",
        "\n",
        "  optimizer = torch.optim.AdamW(model.parameters(), lr=config[\"lr\"])\n",
        "  criterion = nn.CrossEntropyLoss()\n",
        "\n",
        "  scaler = torch.cuda.amp.GradScaler(enabled=True) \n",
        "  lr_scheduler = torch.optim.lr_scheduler.CosineAnnealingWarmRestarts(optimizer, T_0=10, T_mult=1, eta_min=0.001, last_epoch=-1)\n",
        "\n",
        "  valid_loss_list=[]\n",
        "  train_loss_list=[]\n",
        "  for epoch in range(epochs):\n",
        "      start=time.time()\n",
        "      train_loss = 0\n",
        "      train_pred=[]\n",
        "      train_y=[]\n",
        "\n",
        "      valid_loss = 0\n",
        "      valid_pred=[]\n",
        "      valid_y=[]\n",
        "      acc=0\n",
        "\n",
        "      model.train()\n",
        "      for batch in (train_loader):\n",
        "          optimizer.zero_grad()\n",
        "          x = torch.tensor(batch[0], dtype=torch.float32, device=device)\n",
        "          y = torch.tensor(batch[1], dtype=torch.long, device=device)\n",
        "          with torch.cuda.amp.autocast():\n",
        "              pred = model(x)\n",
        "          loss = criterion(pred, y)\n",
        "\n",
        "\n",
        "          scaler.scale(loss).backward()\n",
        "          scaler.step(optimizer)\n",
        "          scaler.update()\n",
        "          \n",
        "          train_loss += loss.item()/len(train_loader)\n",
        "          train_pred += pred.argmax(1).detach().cpu().numpy().tolist()\n",
        "          train_y += y.detach().cpu().numpy().tolist()\n",
        "      \n",
        "      train_f1 = score_function(train_y, train_pred)\n",
        "\n",
        "\n",
        "      TIME = time.time() - start\n",
        "      lr_scheduler.step()\n",
        "      acc+=train_f1\n",
        "      tune.report(mean_accuracy=train_f1)\n"
      ],
      "metadata": {
        "colab": {
          "base_uri": "https://localhost:8080/",
          "height": 87,
          "referenced_widgets": [
            "08da1e61abba4a4b82c450ae832eff5c",
            "2b0024825e06493dbf2f6c2155570000",
            "d14165456b084d10bc8ba937c9360b16",
            "1053faa4818940fdafbc0cc059b1e767",
            "4b9136c25e4d4f01900fa59c204e0891",
            "c83c781765ff4addb9d9f6d5e91848cd",
            "1f00512fb8144851ac38c72add18fff2",
            "25bf55fbd57849409b7776780560b490",
            "019229704f50486a83bc6239ab04cb16",
            "dabe898c2b50433586ea64870da87428",
            "80ee6231be5944de9f0d4d838eb8cd9f"
          ]
        },
        "id": "kNkQB1fZQU1z",
        "outputId": "ab28b910-f6a0-410a-d561-aefe4532e45e"
      },
      "id": "kNkQB1fZQU1z",
      "execution_count": null,
      "outputs": [
        {
          "output_type": "stream",
          "name": "stderr",
          "text": [
            "Downloading: \"https://download.pytorch.org/models/efficientnet_v2_s-dd5fe13b.pth\" to /root/.cache/torch/hub/checkpoints/efficientnet_v2_s-dd5fe13b.pth\n"
          ]
        },
        {
          "output_type": "display_data",
          "data": {
            "text/plain": [
              "  0%|          | 0.00/82.7M [00:00<?, ?B/s]"
            ],
            "application/vnd.jupyter.widget-view+json": {
              "version_major": 2,
              "version_minor": 0,
              "model_id": "08da1e61abba4a4b82c450ae832eff5c"
            }
          },
          "metadata": {}
        }
      ]
    },
    {
      "cell_type": "code",
      "execution_count": null,
      "metadata": {
        "colab": {
          "base_uri": "https://localhost:8080/"
        },
        "id": "QplKmNaD5h3b",
        "outputId": "e7afa737-9a90-4e36-95b4-c55329533e0c"
      },
      "outputs": [
        {
          "output_type": "stream",
          "name": "stderr",
          "text": [
            "2022-07-16 14:17:52,965\tWARNING function_runner.py:604 -- Function checkpointing is disabled. This may result in unexpected behavior when using checkpointing features or certain schedulers. To enable, set the train function arguments to be `func(config, checkpoint_dir=None)`.\n"
          ]
        }
      ],
      "source": [
        "analysis = tune.run(\n",
        "    train, config={\"lr\": tune.grid_search([0.001, 0.01, 0.1])})\n",
        "df = analysis.dataframe()\n"
      ],
      "id": "QplKmNaD5h3b"
    },
    {
      "cell_type": "code",
      "source": [
        "config = {\n",
        "    \"l1\": tune.sample_from(lambda _: 2**np.random.randint(2, 9)),\n",
        "    \"l2\": tune.sample_from(lambda _: 2**np.random.randint(2, 9)),\n",
        "    \"lr\": tune.loguniform(1e-4, 1e-1),\n",
        "    \"batch_size\": tune.choice([2, 4, 8, 16])\n",
        "}\n",
        "\n",
        "result = tune.run(\n",
        "    partial(train_cifar, data_dir=data_dir),\n",
        "    resources_per_trial={\"cpu\": 8, \"gpu\": gpus_per_trial},\n",
        "    config=config,\n",
        "    num_samples=num_samples,\n",
        "    scheduler=scheduler,\n",
        "    progress_reporter=reporter,\n",
        "    checkpoint_at_end=True)"
      ],
      "metadata": {
        "id": "vL2B1RxIVJic"
      },
      "id": "vL2B1RxIVJic",
      "execution_count": null,
      "outputs": []
    }
  ],
  "metadata": {
    "accelerator": "GPU",
    "colab": {
      "collapsed_sections": [],
      "machine_shape": "hm",
      "name": "Add Tune.ipynb의 사본",
      "provenance": [],
      "include_colab_link": true
    },
    "gpuClass": "standard",
    "kernelspec": {
      "display_name": "Python 3",
      "name": "python3"
    },
    "language_info": {
      "name": "python"
    },
    "widgets": {
      "application/vnd.jupyter.widget-state+json": {
        "08da1e61abba4a4b82c450ae832eff5c": {
          "model_module": "@jupyter-widgets/controls",
          "model_name": "HBoxModel",
          "model_module_version": "1.5.0",
          "state": {
            "_dom_classes": [],
            "_model_module": "@jupyter-widgets/controls",
            "_model_module_version": "1.5.0",
            "_model_name": "HBoxModel",
            "_view_count": null,
            "_view_module": "@jupyter-widgets/controls",
            "_view_module_version": "1.5.0",
            "_view_name": "HBoxView",
            "box_style": "",
            "children": [
              "IPY_MODEL_2b0024825e06493dbf2f6c2155570000",
              "IPY_MODEL_d14165456b084d10bc8ba937c9360b16",
              "IPY_MODEL_1053faa4818940fdafbc0cc059b1e767"
            ],
            "layout": "IPY_MODEL_4b9136c25e4d4f01900fa59c204e0891"
          }
        },
        "2b0024825e06493dbf2f6c2155570000": {
          "model_module": "@jupyter-widgets/controls",
          "model_name": "HTMLModel",
          "model_module_version": "1.5.0",
          "state": {
            "_dom_classes": [],
            "_model_module": "@jupyter-widgets/controls",
            "_model_module_version": "1.5.0",
            "_model_name": "HTMLModel",
            "_view_count": null,
            "_view_module": "@jupyter-widgets/controls",
            "_view_module_version": "1.5.0",
            "_view_name": "HTMLView",
            "description": "",
            "description_tooltip": null,
            "layout": "IPY_MODEL_c83c781765ff4addb9d9f6d5e91848cd",
            "placeholder": "​",
            "style": "IPY_MODEL_1f00512fb8144851ac38c72add18fff2",
            "value": "100%"
          }
        },
        "d14165456b084d10bc8ba937c9360b16": {
          "model_module": "@jupyter-widgets/controls",
          "model_name": "FloatProgressModel",
          "model_module_version": "1.5.0",
          "state": {
            "_dom_classes": [],
            "_model_module": "@jupyter-widgets/controls",
            "_model_module_version": "1.5.0",
            "_model_name": "FloatProgressModel",
            "_view_count": null,
            "_view_module": "@jupyter-widgets/controls",
            "_view_module_version": "1.5.0",
            "_view_name": "ProgressView",
            "bar_style": "success",
            "description": "",
            "description_tooltip": null,
            "layout": "IPY_MODEL_25bf55fbd57849409b7776780560b490",
            "max": 86721253,
            "min": 0,
            "orientation": "horizontal",
            "style": "IPY_MODEL_019229704f50486a83bc6239ab04cb16",
            "value": 86721253
          }
        },
        "1053faa4818940fdafbc0cc059b1e767": {
          "model_module": "@jupyter-widgets/controls",
          "model_name": "HTMLModel",
          "model_module_version": "1.5.0",
          "state": {
            "_dom_classes": [],
            "_model_module": "@jupyter-widgets/controls",
            "_model_module_version": "1.5.0",
            "_model_name": "HTMLModel",
            "_view_count": null,
            "_view_module": "@jupyter-widgets/controls",
            "_view_module_version": "1.5.0",
            "_view_name": "HTMLView",
            "description": "",
            "description_tooltip": null,
            "layout": "IPY_MODEL_dabe898c2b50433586ea64870da87428",
            "placeholder": "​",
            "style": "IPY_MODEL_80ee6231be5944de9f0d4d838eb8cd9f",
            "value": " 82.7M/82.7M [00:00&lt;00:00, 92.8MB/s]"
          }
        },
        "4b9136c25e4d4f01900fa59c204e0891": {
          "model_module": "@jupyter-widgets/base",
          "model_name": "LayoutModel",
          "model_module_version": "1.2.0",
          "state": {
            "_model_module": "@jupyter-widgets/base",
            "_model_module_version": "1.2.0",
            "_model_name": "LayoutModel",
            "_view_count": null,
            "_view_module": "@jupyter-widgets/base",
            "_view_module_version": "1.2.0",
            "_view_name": "LayoutView",
            "align_content": null,
            "align_items": null,
            "align_self": null,
            "border": null,
            "bottom": null,
            "display": null,
            "flex": null,
            "flex_flow": null,
            "grid_area": null,
            "grid_auto_columns": null,
            "grid_auto_flow": null,
            "grid_auto_rows": null,
            "grid_column": null,
            "grid_gap": null,
            "grid_row": null,
            "grid_template_areas": null,
            "grid_template_columns": null,
            "grid_template_rows": null,
            "height": null,
            "justify_content": null,
            "justify_items": null,
            "left": null,
            "margin": null,
            "max_height": null,
            "max_width": null,
            "min_height": null,
            "min_width": null,
            "object_fit": null,
            "object_position": null,
            "order": null,
            "overflow": null,
            "overflow_x": null,
            "overflow_y": null,
            "padding": null,
            "right": null,
            "top": null,
            "visibility": null,
            "width": null
          }
        },
        "c83c781765ff4addb9d9f6d5e91848cd": {
          "model_module": "@jupyter-widgets/base",
          "model_name": "LayoutModel",
          "model_module_version": "1.2.0",
          "state": {
            "_model_module": "@jupyter-widgets/base",
            "_model_module_version": "1.2.0",
            "_model_name": "LayoutModel",
            "_view_count": null,
            "_view_module": "@jupyter-widgets/base",
            "_view_module_version": "1.2.0",
            "_view_name": "LayoutView",
            "align_content": null,
            "align_items": null,
            "align_self": null,
            "border": null,
            "bottom": null,
            "display": null,
            "flex": null,
            "flex_flow": null,
            "grid_area": null,
            "grid_auto_columns": null,
            "grid_auto_flow": null,
            "grid_auto_rows": null,
            "grid_column": null,
            "grid_gap": null,
            "grid_row": null,
            "grid_template_areas": null,
            "grid_template_columns": null,
            "grid_template_rows": null,
            "height": null,
            "justify_content": null,
            "justify_items": null,
            "left": null,
            "margin": null,
            "max_height": null,
            "max_width": null,
            "min_height": null,
            "min_width": null,
            "object_fit": null,
            "object_position": null,
            "order": null,
            "overflow": null,
            "overflow_x": null,
            "overflow_y": null,
            "padding": null,
            "right": null,
            "top": null,
            "visibility": null,
            "width": null
          }
        },
        "1f00512fb8144851ac38c72add18fff2": {
          "model_module": "@jupyter-widgets/controls",
          "model_name": "DescriptionStyleModel",
          "model_module_version": "1.5.0",
          "state": {
            "_model_module": "@jupyter-widgets/controls",
            "_model_module_version": "1.5.0",
            "_model_name": "DescriptionStyleModel",
            "_view_count": null,
            "_view_module": "@jupyter-widgets/base",
            "_view_module_version": "1.2.0",
            "_view_name": "StyleView",
            "description_width": ""
          }
        },
        "25bf55fbd57849409b7776780560b490": {
          "model_module": "@jupyter-widgets/base",
          "model_name": "LayoutModel",
          "model_module_version": "1.2.0",
          "state": {
            "_model_module": "@jupyter-widgets/base",
            "_model_module_version": "1.2.0",
            "_model_name": "LayoutModel",
            "_view_count": null,
            "_view_module": "@jupyter-widgets/base",
            "_view_module_version": "1.2.0",
            "_view_name": "LayoutView",
            "align_content": null,
            "align_items": null,
            "align_self": null,
            "border": null,
            "bottom": null,
            "display": null,
            "flex": null,
            "flex_flow": null,
            "grid_area": null,
            "grid_auto_columns": null,
            "grid_auto_flow": null,
            "grid_auto_rows": null,
            "grid_column": null,
            "grid_gap": null,
            "grid_row": null,
            "grid_template_areas": null,
            "grid_template_columns": null,
            "grid_template_rows": null,
            "height": null,
            "justify_content": null,
            "justify_items": null,
            "left": null,
            "margin": null,
            "max_height": null,
            "max_width": null,
            "min_height": null,
            "min_width": null,
            "object_fit": null,
            "object_position": null,
            "order": null,
            "overflow": null,
            "overflow_x": null,
            "overflow_y": null,
            "padding": null,
            "right": null,
            "top": null,
            "visibility": null,
            "width": null
          }
        },
        "019229704f50486a83bc6239ab04cb16": {
          "model_module": "@jupyter-widgets/controls",
          "model_name": "ProgressStyleModel",
          "model_module_version": "1.5.0",
          "state": {
            "_model_module": "@jupyter-widgets/controls",
            "_model_module_version": "1.5.0",
            "_model_name": "ProgressStyleModel",
            "_view_count": null,
            "_view_module": "@jupyter-widgets/base",
            "_view_module_version": "1.2.0",
            "_view_name": "StyleView",
            "bar_color": null,
            "description_width": ""
          }
        },
        "dabe898c2b50433586ea64870da87428": {
          "model_module": "@jupyter-widgets/base",
          "model_name": "LayoutModel",
          "model_module_version": "1.2.0",
          "state": {
            "_model_module": "@jupyter-widgets/base",
            "_model_module_version": "1.2.0",
            "_model_name": "LayoutModel",
            "_view_count": null,
            "_view_module": "@jupyter-widgets/base",
            "_view_module_version": "1.2.0",
            "_view_name": "LayoutView",
            "align_content": null,
            "align_items": null,
            "align_self": null,
            "border": null,
            "bottom": null,
            "display": null,
            "flex": null,
            "flex_flow": null,
            "grid_area": null,
            "grid_auto_columns": null,
            "grid_auto_flow": null,
            "grid_auto_rows": null,
            "grid_column": null,
            "grid_gap": null,
            "grid_row": null,
            "grid_template_areas": null,
            "grid_template_columns": null,
            "grid_template_rows": null,
            "height": null,
            "justify_content": null,
            "justify_items": null,
            "left": null,
            "margin": null,
            "max_height": null,
            "max_width": null,
            "min_height": null,
            "min_width": null,
            "object_fit": null,
            "object_position": null,
            "order": null,
            "overflow": null,
            "overflow_x": null,
            "overflow_y": null,
            "padding": null,
            "right": null,
            "top": null,
            "visibility": null,
            "width": null
          }
        },
        "80ee6231be5944de9f0d4d838eb8cd9f": {
          "model_module": "@jupyter-widgets/controls",
          "model_name": "DescriptionStyleModel",
          "model_module_version": "1.5.0",
          "state": {
            "_model_module": "@jupyter-widgets/controls",
            "_model_module_version": "1.5.0",
            "_model_name": "DescriptionStyleModel",
            "_view_count": null,
            "_view_module": "@jupyter-widgets/base",
            "_view_module_version": "1.2.0",
            "_view_name": "StyleView",
            "description_width": ""
          }
        }
      }
    }
  },
  "nbformat": 4,
  "nbformat_minor": 5
}