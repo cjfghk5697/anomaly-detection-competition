{
  "cells": [
    {
      "cell_type": "markdown",
      "metadata": {
        "id": "view-in-github",
        "colab_type": "text"
      },
      "source": [
        "<a href=\"https://colab.research.google.com/github/cjfghk5697/anomaly-detection-competition/blob/main/inference_code(Add%20TTA).ipynb\" target=\"_parent\"><img src=\"https://colab.research.google.com/assets/colab-badge.svg\" alt=\"Open In Colab\"/></a>"
      ]
    },
    {
      "cell_type": "markdown",
      "metadata": {
        "id": "8_CNMKV8VdMV"
      },
      "source": [
        "#07-13 TTA, Ensemble 추가\n",
        "결과적으로 3개의 모델 (대략 55~65%)로 정확도 70퍼로 상승\n",
        "\n",
        "```python\n",
        "import ttach as tta\n",
        "import copy\n",
        "best_models = []\n",
        "model.load_state_dict(torch.load('/content/drive/MyDrive/input/model/Focal loss,eff3,47.pth'), strict=False)\n",
        "best_models.append(copy.deepcopy(model))\n",
        "\n",
        "apply_tta_model=[]\n",
        "\n",
        "tta_transforms = tta.Compose(\n",
        "    [\n",
        "        tta.Rotate90(angles=[0, 90, 180, 270]),\n",
        "        tta.Multiply([0.9, 1])\n",
        "    ]\n",
        ")\n",
        "for model in best_models:\n",
        "   apply_tta_model.append(copytta.deepcopy(ClassificationTTAWrapper(model, tta_transforms)))\n",
        "\n",
        "tta_model_b3.eval()\n",
        "tta_model_wrn.eval()\n",
        "f_pred = []\n",
        "\n",
        "with torch.no_grad  ():\n",
        "    for batch in (test_loader):\n",
        "        x = torch.tensor(batch[0]['image'], dtype = torch.float32, device = device)\n",
        "        with torch.cuda.amp.autocast():\n",
        "            for model in apply_tta_model:\n",
        "              pred+ = model(x)\n",
        "        f_pred.extend(pred.argmax(1).detach().cpu().numpy().tolist())\n",
        "```"
      ]
    },
    {
      "cell_type": "code",
      "execution_count": null,
      "metadata": {
        "colab": {
          "background_save": true
        },
        "id": "w_BzNc1s_CHm",
        "outputId": "99d057eb-fee5-4cda-9929-401727448bb8"
      },
      "outputs": [
        {
          "name": "stdout",
          "output_type": "stream",
          "text": [
            "Mounted at /content/drive\n"
          ]
        }
      ],
      "source": [
        "from google.colab import drive\n",
        "drive.mount('/content/drive')"
      ]
    },
    {
      "cell_type": "markdown",
      "metadata": {
        "id": "fQZtUXB5XVjK"
      },
      "source": [
        ""
      ]
    },
    {
      "cell_type": "code",
      "execution_count": null,
      "metadata": {
        "id": "KRj_m3HDlUxo"
      },
      "outputs": [],
      "source": [
        "%cd \"/content/drive/MyDrive/input/\"\n",
        "!unzip -q \"/content/drive/MyDrive/input/test.zip\""
      ]
    },
    {
      "cell_type": "code",
      "execution_count": null,
      "metadata": {
        "id": "vDsQlo2TAVaK"
      },
      "outputs": [],
      "source": [
        "!pip3 install timm\n",
        "!pip install ttach\n"
      ]
    },
    {
      "cell_type": "code",
      "execution_count": null,
      "metadata": {
        "id": "wlVmS_SvlTkn"
      },
      "outputs": [],
      "source": [
        "import warnings\n",
        "warnings.filterwarnings('ignore')\n",
        "\n",
        "from glob import glob\n",
        "import pandas as pd\n",
        "import numpy as np \n",
        "from tqdm import tqdm\n",
        "import cv2\n",
        "import ttach as tta\n",
        "\n",
        "import os\n",
        "import random\n",
        "import timm\n",
        "\n",
        "import torch\n",
        "from torch.utils.data import Dataset, DataLoader\n",
        "import torch.nn as nn\n",
        "import torchvision.transforms as transforms\n",
        "from sklearn.metrics import f1_score, accuracy_score\n",
        "import time\n",
        "from typing import Tuple, Sequence, Callable\n",
        "from PIL import Image\n",
        "import cv2\n",
        "from autoaugment import ImageNetPolicy, CIFAR10Policy, SVHNPolicy, SubPolicy\n",
        "\n",
        "device = torch.device('cuda')"
      ]
    },
    {
      "cell_type": "code",
      "execution_count": null,
      "metadata": {
        "id": "nxC2X9eXlSIQ"
      },
      "outputs": [],
      "source": [
        "test_png = sorted(glob('/content/drive/MyDrive/input/test/*.png'))"
      ]
    },
    {
      "cell_type": "code",
      "execution_count": null,
      "metadata": {
        "id": "bxYBColRAZe2"
      },
      "outputs": [],
      "source": [
        "def img_load(path):\n",
        "    img = cv2.imread(path)[:,:,::-1]\n",
        "    img = cv2.resize(img, (512, 512))\n",
        "    return img"
      ]
    },
    {
      "cell_type": "code",
      "execution_count": null,
      "metadata": {
        "id": "uWGDGwa7lPgV"
      },
      "outputs": [],
      "source": [
        "test_imgs = [img_load(n) for n in tqdm(test_png)]"
      ]
    },
    {
      "cell_type": "code",
      "execution_count": null,
      "metadata": {
        "id": "Vn0Lq8w4-DHN"
      },
      "outputs": [],
      "source": [
        "transforms_test = transforms.Compose([\n",
        "    transforms.RandomHorizontalFlip(p=0.5),\n",
        "    transforms.RandomVerticalFlip(p=0.5),\n",
        "    transforms.ToTensor(),\n",
        "    transforms.Normalize(\n",
        "        [0.485, 0.456, 0.406],\n",
        "        [0.229, 0.224, 0.225]\n",
        "    )\n",
        "])"
      ]
    },
    {
      "cell_type": "code",
      "execution_count": null,
      "metadata": {
        "id": "v4DNAqNkBnkR"
      },
      "outputs": [],
      "source": [
        "train_y = pd.read_csv('/content/drive/MyDrive/input/train_df.csv')\n",
        "\n",
        "train_labels = train_y[\"label\"]\n",
        "\n",
        "label_unique = sorted(np.unique(train_labels))\n",
        "label_unique = {key:value for key,value in zip(label_unique, range(len(label_unique)))}"
      ]
    },
    {
      "cell_type": "code",
      "execution_count": null,
      "metadata": {
        "id": "dpQdWTyW-B4V"
      },
      "outputs": [],
      "source": [
        "class Custom_dataset(Dataset):\n",
        "    def __init__(self, \n",
        "                 img_paths, \n",
        "                 labels, \n",
        "                 mode='train',\n",
        "                 transforms= Sequence[Callable]\n",
        "            ) -> None:\n",
        "        self.img_paths = img_paths\n",
        "        self.labels = labels\n",
        "        self.mode=mode\n",
        "        self.transforms = transforms\n",
        "\n",
        "    def __len__(self):\n",
        "        return len(self.img_paths)\n",
        "    def __getitem__(self, idx):\n",
        "        img = self.img_paths[idx]\n",
        "        if self.mode=='train':\n",
        "            augmentation = random.randint(0,2)\n",
        "            if augmentation==1:\n",
        "                img = img[::-1].copy()\n",
        "            elif augmentation==2:\n",
        "                img = img[:,::-1].copy()\n",
        "        if self.mode=='test':\n",
        "            pass\n",
        "        img = Image.fromarray(img) # NumPy array to PIL image\n",
        "        if self.transforms is not None:\n",
        "            img = self.transforms(img)        \n",
        "        label = self.labels[idx]\n",
        " #       return {'image': img, 'label': label} #TTA사용\n",
        "        return img, label # 단일 버전\n",
        "class Network(nn.Module):\n",
        "    def __init__(self):\n",
        "        super(Network, self).__init__()\n",
        "        self.model = timm.create_model('efficientnet_b3', pretrained=True)\n",
        "        self.dropout=nn.Dropout(p=0.2)\n",
        "        self.SiLU=nn.SiLU(inplace=False)\n",
        "        self.classifier = nn.Linear(1000, 88)\n",
        "        nn.init.xavier_normal_(self.classifier.weight)\n",
        "\n",
        "    def forward(self, x):\n",
        "        x = self.model(x)\n",
        "        x = self.dropout(x)\n",
        "        x = self.SiLU(x) \n",
        "        x = self.classifier(x)\n",
        "\n",
        "        return x"
      ]
    },
    {
      "cell_type": "code",
      "execution_count": null,
      "metadata": {
        "id": "ZMXgCkKT_I0D"
      },
      "outputs": [],
      "source": [
        "device = torch.device('cuda' if torch.cuda.is_available() else 'cpu')\n",
        "model = Network().to(device)\n",
        "model.to(device)# gpu에 모델 할당\n",
        "\n",
        "import copy\n",
        "best_models = []\n",
        "model.load_state_dict(torch.load('/content/drive/MyDrive/input/model/Focal loss,eff3,47.pth'), strict=False)\n",
        "best_models.append(copy.deepcopy(model))\n",
        "\n",
        "apply_tta_model=[]"
      ]
    },
    {
      "cell_type": "code",
      "execution_count": null,
      "metadata": {
        "id": "hLBliXglmru5"
      },
      "outputs": [],
      "source": [
        "tta_transforms = tta.Compose(\n",
        "    [\n",
        "        tta.Rotate90(angles=[0, 90, 180, 270]),\n",
        "        tta.Multiply([0.9, 1])\n",
        "    ]\n",
        ")\n",
        "for model in best_models:\n",
        "   apply_tta_model.append(copytta.deepcopy(ClassificationTTAWrapper(model, tta_transforms)))\n"
      ]
    },
    {
      "cell_type": "code",
      "execution_count": null,
      "metadata": {
        "colab": {
          "background_save": true
        },
        "id": "gVfI3bMbmsoG"
      },
      "outputs": [],
      "source": [
        "tta_model_b3.eval()\n",
        "tta_model_wrn.eval()\n",
        "f_pred = []\n",
        "\n",
        "with torch.no_grad  ():\n",
        "    for batch in (test_loader):\n",
        "        x = torch.tensor(batch[0]['image'], dtype = torch.float32, device = device)\n",
        "        with torch.cuda.amp.autocast():\n",
        "            for model in apply_tta_model:\n",
        "              pred+ = model(x)\n",
        "        f_pred.extend(pred.argmax(1).detach().cpu().numpy().tolist())"
      ]
    },
    {
      "cell_type": "code",
      "execution_count": null,
      "metadata": {
        "colab": {
          "background_save": true
        },
        "id": "mEtJH3_QlgVo"
      },
      "outputs": [],
      "source": [
        "label_decoder = {val:key for key, val in label_unique.items()}\n",
        "\n",
        "f_result = [label_decoder[result] for result in f_pred]"
      ]
    },
    {
      "cell_type": "code",
      "execution_count": null,
      "metadata": {
        "colab": {
          "background_save": true
        },
        "id": "MYYMDVz9lhxH"
      },
      "outputs": [],
      "source": [
        "submission = pd.read_csv('/content/drive/MyDrive/input/sample_submission.csv')\n",
        "\n",
        "submission[\"label\"] = f_result\n",
        "\n",
        "submission.to_csv(\"/content/drive/MyDrive/input/baseline1.csv\", index = False)"
      ]
    },
    {
      "cell_type": "code",
      "execution_count": null,
      "metadata": {
        "id": "99xlpHIJlfB4"
      },
      "outputs": [],
      "source": [
        "model.eval()\n",
        "f_pred = []\n",
        "\n",
        "with torch.no_grad():\n",
        "    for batch in (test_data_loader1):\n",
        "        x = torch.tensor(batch[0], dtype = torch.float32, device = device)\n",
        "        with torch.cuda.amp.autocast():\n",
        "            pred = model(x)\n",
        "        f_pred.extend(pred.argmax(1).detach().cpu().numpy().tolist())\n",
        "label_decoder = {val:key for key, val in label_unique.items()}\n",
        "f_result = [label_decoder[result] for result in f_pred]\n"
      ]
    },
    {
      "cell_type": "markdown",
      "metadata": {
        "id": "P5QVMNLEWOpl"
      },
      "source": [
        "https://dacon.io/competitions/official/235894/codeshare/4946?page=1&dtype=recent"
      ]
    }
  ],
  "metadata": {
    "accelerator": "GPU",
    "colab": {
      "collapsed_sections": [],
      "name": "inference code(TTA).ipynb",
      "provenance": [],
      "authorship_tag": "ABX9TyOpqvLX8HttTqid5ClSNFiO",
      "include_colab_link": true
    },
    "gpuClass": "standard",
    "kernelspec": {
      "display_name": "Python 3",
      "name": "python3"
    },
    "language_info": {
      "name": "python"
    }
  },
  "nbformat": 4,
  "nbformat_minor": 0
}