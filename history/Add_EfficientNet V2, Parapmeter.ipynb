{
  "cells": [
    {
      "cell_type": "markdown",
      "metadata": {
        "id": "view-in-github",
        "colab_type": "text"
      },
      "source": [
        "<a href=\"https://colab.research.google.com/github/cjfghk5697/anomaly-detection-competition/blob/main/Add_EfficientNet%20V2%2C%20Parapmeter.ipynb\" target=\"_parent\"><img src=\"https://colab.research.google.com/assets/colab-badge.svg\" alt=\"Open In Colab\"/></a>"
      ]
    },
    {
      "cell_type": "markdown",
      "metadata": {
        "id": "9IbKCV5mvcNt"
      },
      "source": [
        "# 기록\n",
        "\n",
        "## 07-15\n",
        "다양한 parameter 실천결과\n",
        "2e-4가 61%로 지금까지 가장 높음. 그에 반해 2e-2는 좋은 결과가 안나옴. 또한 TTA가 큰 역할을 하는 걸로 보이지는 않는다. 그래서 적절히 섞어가며 테스트하면 더욱 좋은 결과를 낼수 있을 것이다. \n",
        "\n",
        "예시로 TTA를 했는데 63퍼이고 안하면 66%인 경우가 있다. TTA에 대한 연구와 parameter을 더욱 조사해보는게 맞는 거 같다.\n",
        "\n",
        "## EfficientNet V2 추가\n",
        "최근 EfficientNet V2 관련 논문을 읽었는데 정말 인상적이다. 속도와 메모리 모두 줄였는데 efficientnetV1 만큼 괜찮은 성능과 이미지를 progessive resizieng과 mix&mach, curriculum learning을 보고 반해버렸다.. torch vision에서 efficientnet v2를 제공하기에 추가했다.\n",
        "\n",
        "\n",
        "```python\n",
        "from torchvision.models import efficientnet_v2_m\n",
        "\n",
        "self.model = efficientnet_v2_m(pretrained=True)\n",
        "````\n",
        "\n",
        " efficientNet b3와 비슷한 속도를 초반에 지녔지만 후반에 image가 커지기에 아마 느려질 거 같다."
      ],
      "id": "9IbKCV5mvcNt"
    },
    {
      "cell_type": "markdown",
      "metadata": {
        "id": "CZ-sBHD67ara"
      },
      "source": [
        "https://dacon.io/competitions/official/235894/overview/description"
      ],
      "id": "CZ-sBHD67ara"
    },
    {
      "cell_type": "code",
      "execution_count": 1,
      "metadata": {
        "colab": {
          "base_uri": "https://localhost:8080/"
        },
        "id": "PzCathkdclQi",
        "outputId": "c86a88a8-8f6b-477b-edf3-91c891a679d6"
      },
      "outputs": [
        {
          "output_type": "stream",
          "name": "stdout",
          "text": [
            "Drive already mounted at /content/drive; to attempt to forcibly remount, call drive.mount(\"/content/drive\", force_remount=True).\n"
          ]
        }
      ],
      "source": [
        "from google.colab import drive\n",
        "drive.mount('/content/drive')"
      ],
      "id": "PzCathkdclQi"
    },
    {
      "cell_type": "code",
      "execution_count": 2,
      "metadata": {
        "colab": {
          "base_uri": "https://localhost:8080/"
        },
        "id": "XT1TIhwClLco",
        "outputId": "1a3ea586-8f56-4676-a7fd-fa2b559a3582"
      },
      "outputs": [
        {
          "output_type": "stream",
          "name": "stdout",
          "text": [
            "/content/drive/MyDrive/input\n"
          ]
        }
      ],
      "source": [
        "%cd \"/content/drive/MyDrive/input/\"\n",
        "#!unzip -q \"/content/drive/MyDrive/input/train.zip\" "
      ],
      "id": "XT1TIhwClLco"
    },
    {
      "cell_type": "code",
      "execution_count": 3,
      "metadata": {
        "id": "3OokVlgKZj4-",
        "colab": {
          "base_uri": "https://localhost:8080/"
        },
        "outputId": "73e92f2e-208a-4710-b5c8-468bdd3e1194"
      },
      "outputs": [
        {
          "output_type": "stream",
          "name": "stdout",
          "text": [
            "fatal: destination path 'AutoAugment' already exists and is not an empty directory.\n"
          ]
        }
      ],
      "source": [
        "# autoaugment 사용\n",
        "!git clone https://github.com/DeepVoltaire/AutoAugment.git\n",
        "!cp /content/drive/MyDrive/input/AutoAugment/autoaugment.py /content/drive/MyDrive/input\n",
        "!cp /content/drive/MyDrive/input/AutoAugment/ops.py /content/drive/MyDrive/input"
      ],
      "id": "3OokVlgKZj4-"
    },
    {
      "cell_type": "code",
      "execution_count": 4,
      "metadata": {
        "id": "oFbYUT85c21S"
      },
      "outputs": [],
      "source": [
        "#!pip3 install timm"
      ],
      "id": "oFbYUT85c21S"
    },
    {
      "cell_type": "code",
      "execution_count": 5,
      "metadata": {
        "id": "QAYn-e555h3X"
      },
      "outputs": [],
      "source": [
        "import warnings\n",
        "warnings.filterwarnings('ignore')\n",
        "\n",
        "from glob import glob\n",
        "import pandas as pd\n",
        "import numpy as np \n",
        "from tqdm import tqdm\n",
        "import cv2\n",
        "\n",
        "import os\n",
        "#import timm\n",
        "import random\n",
        "from typing import Tuple, Sequence, Callable\n",
        "\n",
        "import torch\n",
        "from torch.utils.data import Dataset, DataLoader\n",
        "import torch.nn as nn\n",
        "import torchvision.transforms as transforms\n",
        "from sklearn.metrics import f1_score, accuracy_score\n",
        "import time\n",
        "from PIL import Image\n",
        "import cv2\n",
        "from torch.autograd import Variable\n",
        "from autoaugment import ImageNetPolicy, CIFAR10Policy, SVHNPolicy, SubPolicy\n",
        "\n",
        "from torchvision.models import efficientnet_v2_s\n",
        "\n",
        "device = torch.device('cuda')"
      ],
      "id": "QAYn-e555h3X"
    },
    {
      "cell_type": "code",
      "execution_count": 6,
      "metadata": {
        "id": "4hqIke8a5h3Y"
      },
      "outputs": [],
      "source": [
        "train_png = sorted(glob('./train/*.png'))"
      ],
      "id": "4hqIke8a5h3Y"
    },
    {
      "cell_type": "code",
      "execution_count": 7,
      "metadata": {
        "id": "QqVmNfwZ5h3Z"
      },
      "outputs": [],
      "source": [
        "train_y = pd.read_csv('./train_df.csv')\n",
        "\n",
        "train_labels = train_y[\"label\"]\n",
        "\n",
        "label_unique = sorted(np.unique(train_labels))\n",
        "label_unique = {key:value for key,value in zip(label_unique, range(len(label_unique)))}\n",
        "\n",
        "train_labels = [label_unique[k] for k in train_labels]"
      ],
      "id": "QqVmNfwZ5h3Z"
    },
    {
      "cell_type": "code",
      "execution_count": 8,
      "metadata": {
        "id": "qo8oWVcz5h3Z"
      },
      "outputs": [],
      "source": [
        "def img_load(path):\n",
        "    img = cv2.imread(path)[:,:,::-1]\n",
        "    img = cv2.resize(img, (512, 512))\n",
        "    return img"
      ],
      "id": "qo8oWVcz5h3Z"
    },
    {
      "cell_type": "code",
      "execution_count": 9,
      "metadata": {
        "colab": {
          "base_uri": "https://localhost:8080/"
        },
        "id": "ErXkcD7d5h3a",
        "outputId": "fb3ec71c-784f-4459-d9d3-cf268ad5c9b6"
      },
      "outputs": [
        {
          "output_type": "stream",
          "name": "stderr",
          "text": [
            "100%|██████████| 4277/4277 [02:43<00:00, 26.15it/s]\n"
          ]
        }
      ],
      "source": [
        "train_imgs = [img_load(m) for m in tqdm(train_png)]"
      ],
      "id": "ErXkcD7d5h3a"
    },
    {
      "cell_type": "code",
      "execution_count": 10,
      "metadata": {
        "id": "aQfAK_29vky9"
      },
      "outputs": [],
      "source": [
        "transforms_train = transforms.Compose([\n",
        "    transforms.RandomHorizontalFlip(p=0.5),\n",
        "    transforms.RandomVerticalFlip(p=0.5),\n",
        "    ImageNetPolicy(),\n",
        "\n",
        "    transforms.ToTensor(),\n",
        "    transforms.Normalize(\n",
        "        [0.485, 0.456, 0.406],\n",
        "        [0.229, 0.224, 0.225]\n",
        "    )\n",
        "])\n"
      ],
      "id": "aQfAK_29vky9"
    },
    {
      "cell_type": "code",
      "execution_count": 11,
      "metadata": {
        "id": "GVB5_Crz5h3a"
      },
      "outputs": [],
      "source": [
        "class Custom_dataset(Dataset):\n",
        "    def __init__(self, \n",
        "                 img_paths, \n",
        "                 labels, \n",
        "                 mode='train',\n",
        "                 transforms= Sequence[Callable]\n",
        "            ) -> None:\n",
        "        self.img_paths = img_paths\n",
        "        self.labels = labels\n",
        "        self.mode=mode\n",
        "        self.transforms = transforms\n",
        "\n",
        "    def __len__(self):\n",
        "        return len(self.img_paths)\n",
        "    def __getitem__(self, idx):\n",
        "        img = self.img_paths[idx]\n",
        "        if self.mode=='train':\n",
        "            augmentation = random.randint(0,2)\n",
        "            if augmentation==1:\n",
        "                img = img[::-1].copy()\n",
        "            elif augmentation==2:\n",
        "                img = img[:,::-1].copy()\n",
        "        if self.mode=='test':\n",
        "            pass\n",
        "        img = Image.fromarray(img) # NumPy array to PIL image\n",
        "        if self.transforms is not None:\n",
        "            img = self.transforms(img)        \n",
        "        label = self.labels[idx]\n",
        "        return img, label\n",
        "    \n",
        "class Network(nn.Module):\n",
        "    def __init__(self):\n",
        "        super(Network, self).__init__()\n",
        "        self.model = efficientnet_v2_s(pretrained=True)\n",
        "        self.dropout=nn.Dropout(p=0.2)\n",
        "        self.SiLU=nn.SiLU(inplace=False)\n",
        "        self.classifier = nn.Linear(1000, 88)\n",
        "        nn.init.xavier_normal_(self.classifier.weight)\n",
        "\n",
        "    def forward(self, x):\n",
        "        x = self.model(x)\n",
        "        x = self.dropout(x)\n",
        "        x = self.SiLU(x) \n",
        "        x = self.classifier(x)\n",
        "\n",
        "        return x"
      ],
      "id": "GVB5_Crz5h3a"
    },
    {
      "cell_type": "code",
      "execution_count": 12,
      "metadata": {
        "id": "cbhpWtL45h3b"
      },
      "outputs": [],
      "source": [
        "batch_size = 32\n",
        "epochs = 50\n",
        "\n",
        "# Train\n",
        "trainset  = Custom_dataset(np.array(train_imgs), np.array(train_labels), mode='train', transforms=transforms_train)\n",
        "lengths = [int(len(trainset)*0.8), int(len(trainset)*0.2)]\n"
      ],
      "id": "cbhpWtL45h3b"
    },
    {
      "cell_type": "code",
      "execution_count": 13,
      "metadata": {
        "id": "sdORtwaH4dpb"
      },
      "outputs": [],
      "source": [
        "lengths=[lengths[0],lengths[1]+1]"
      ],
      "id": "sdORtwaH4dpb"
    },
    {
      "cell_type": "code",
      "execution_count": 14,
      "metadata": {
        "id": "jzqumLFE4ATy"
      },
      "outputs": [],
      "source": [
        "train_dataset, valid_dataset = torch.utils.data.random_split(trainset, lengths)\n",
        "\n",
        "train_loader = DataLoader(train_dataset, shuffle=True, batch_size=batch_size)\n",
        "valid_loader = DataLoader(valid_dataset, shuffle=True, batch_size=batch_size)"
      ],
      "id": "jzqumLFE4ATy"
    },
    {
      "cell_type": "code",
      "execution_count": 15,
      "metadata": {
        "id": "pI-MFTELRNly"
      },
      "outputs": [],
      "source": [
        "def mixup_data(x, y, alpha=1.0, use_cuda=True):\n",
        "    '''Returns mixed inputs, pairs of targets, and lambda'''\n",
        "    if alpha > 0:\n",
        "        lam = np.random.beta(alpha, alpha)\n",
        "    else:\n",
        "        lam = 1\n",
        "\n",
        "    batch_size = x.size()[0]\n",
        "    if use_cuda:\n",
        "        index = torch.randperm(batch_size).cuda()\n",
        "    else:\n",
        "        index = torch.randperm(batch_size)\n",
        "\n",
        "    mixed_x = lam * x + (1 - lam) * x[index, :]\n",
        "    y_a, y_b = y, y[index]\n",
        "    return mixed_x, y_a, y_b, lam\n",
        "\n",
        "\n",
        "def mixup_criterion(criterion, pred, y_a, y_b, lam):\n",
        "    return lam * criterion(pred, y_a) + (1 - lam) * criterion(pred, y_b)"
      ],
      "id": "pI-MFTELRNly"
    },
    {
      "cell_type": "markdown",
      "metadata": {
        "id": "hvqyW4n65h3b"
      },
      "source": [
        "### 모델 학습"
      ],
      "id": "hvqyW4n65h3b"
    },
    {
      "cell_type": "code",
      "execution_count": null,
      "metadata": {
        "id": "QplKmNaD5h3b",
        "colab": {
          "base_uri": "https://localhost:8080/",
          "height": 528,
          "referenced_widgets": [
            "d931211679e24f95b8d78b9780a61b0f",
            "817f320d382e44fb8ccc6903dae1175c",
            "e18c2fabd48e475ba67753917763bd19",
            "2f70ac475c684e7da7796642b53120e7",
            "1d40c790c3b74d6bb63fd9a43cd5c8f7",
            "ea1dbe5b26f44146ad2df621de3e4917",
            "a1e3b859129d4d3db526b95377ba4e15",
            "1455f09ded874d4ba1a602bcc419d04f",
            "fa2bf557ea3b4e67915a48d48c1b15fa",
            "168f80f73c314dcaa6ab6b281ebbafd6",
            "79d7ddf28daf4e1b8a8311473e4a435d"
          ]
        },
        "outputId": "01407c91-9f5e-4b7e-e17d-16923d7aa408"
      },
      "outputs": [
        {
          "output_type": "stream",
          "name": "stderr",
          "text": [
            "Downloading: \"https://download.pytorch.org/models/efficientnet_v2_s-dd5fe13b.pth\" to /root/.cache/torch/hub/checkpoints/efficientnet_v2_s-dd5fe13b.pth\n"
          ]
        },
        {
          "output_type": "display_data",
          "data": {
            "text/plain": [
              "  0%|          | 0.00/82.7M [00:00<?, ?B/s]"
            ],
            "application/vnd.jupyter.widget-view+json": {
              "version_major": 2,
              "version_minor": 0,
              "model_id": "d931211679e24f95b8d78b9780a61b0f"
            }
          },
          "metadata": {}
        },
        {
          "output_type": "stream",
          "name": "stdout",
          "text": [
            "epoch : 1/50    time : 144s/7073s\n",
            "TRAIN    loss : 2.12752    f1 : 0.07955\n",
            "valid    loss : 0.83865    f1 : 0.67018\n",
            "epoch : 2/50    time : 142s/6803s\n",
            "TRAIN    loss : 1.62028    f1 : 0.09955\n",
            "valid    loss : 0.59665    f1 : 0.65873\n",
            "epoch : 3/50    time : 144s/6761s\n",
            "TRAIN    loss : 1.49506    f1 : 0.11738\n",
            "valid    loss : 0.37705    f1 : 0.86667\n",
            "epoch : 4/50    time : 142s/6536s\n",
            "TRAIN    loss : 1.38360    f1 : 0.14180\n",
            "valid    loss : 0.41311    f1 : 0.81513\n",
            "epoch : 5/50    time : 142s/6381s\n",
            "TRAIN    loss : 1.40660    f1 : 0.16224\n",
            "valid    loss : 0.36769    f1 : 0.85417\n",
            "epoch : 6/50    time : 142s/6251s\n",
            "TRAIN    loss : 1.34082    f1 : 0.18123\n",
            "valid    loss : 0.46693    f1 : 0.81978\n",
            "epoch : 7/50    time : 142s/6099s\n",
            "TRAIN    loss : 1.34543    f1 : 0.14077\n",
            "valid    loss : 0.43244    f1 : 0.81176\n",
            "epoch : 8/50    time : 142s/5967s\n",
            "TRAIN    loss : 1.29636    f1 : 0.16679\n",
            "valid    loss : 0.34174    f1 : 0.76190\n"
          ]
        }
      ],
      "source": [
        "def score_function(real, pred):\n",
        "    score = f1_score(real, pred, average=\"macro\")\n",
        "    return score\n",
        "\n",
        "model = Network().to(device)\n",
        "#optimizer = torch.optim.RAdam(model.parameters(), lr=1e-3)\n",
        "\n",
        "optimizer = torch.optim.AdamW(model.parameters(), lr=2e-4, weight_decay = 2e-2)\n",
        "criterion = nn.CrossEntropyLoss()\n",
        "use_amp = True\n",
        "scaler = torch.cuda.amp.GradScaler(enabled=use_amp) \n",
        "lr_scheduler = torch.optim.lr_scheduler.CosineAnnealingWarmRestarts(optimizer, T_0=10, T_mult=1, eta_min=0.001, last_epoch=-1)\n",
        "\n",
        "\n",
        "valid_loss_list=[]\n",
        "train_loss_list=[]\n",
        "\n",
        "for epoch in range(epochs):\n",
        "    start=time.time()\n",
        "    train_loss = 0\n",
        "    train_pred=[]\n",
        "    train_y=[]\n",
        "\n",
        "    valid_loss = 0\n",
        "    valid_pred=[]\n",
        "    valid_y=[]\n",
        "\n",
        "    model.train()\n",
        "    for batch in (train_loader):\n",
        "        optimizer.zero_grad()\n",
        "        x = torch.tensor(batch[0], dtype=torch.float32, device=device)\n",
        "        y = torch.tensor(batch[1], dtype=torch.long, device=device)\n",
        "\n",
        "        x, targets_a, targets_b, lam = mixup_data(x, y)\n",
        "        x, targets_a, targets_b = map(Variable, (x, targets_a, targets_b))\n",
        "\n",
        "        #outputs = model(x)\n",
        "\n",
        "        with torch.cuda.amp.autocast():\n",
        "            pred = model(x)\n",
        "        loss = mixup_criterion(criterion, pred, targets_a, targets_b, lam)\n",
        "\n",
        "\n",
        "        #loss = criterion(pred, y)\n",
        "\n",
        "\n",
        "        scaler.scale(loss).backward()\n",
        "        scaler.step(optimizer)\n",
        "        scaler.update()\n",
        "        \n",
        "        train_loss += loss.item()/len(train_loader)\n",
        "        train_pred += pred.argmax(1).detach().cpu().numpy().tolist()\n",
        "        train_y += y.detach().cpu().numpy().tolist()\n",
        "    model.eval()\n",
        "    with torch.no_grad():\n",
        "      for i in (valid_loader):\n",
        "          images = torch.tensor(batch[0], dtype=torch.float32, device=device)\n",
        "          targets = torch.tensor(batch[1], dtype=torch.long, device=device)\n",
        "\n",
        "\n",
        "\n",
        "          outputs = model(images)\n",
        "          loss = criterion(outputs, targets)\n",
        "\n",
        "          valid_loss += loss.item()/len(valid_loader)\n",
        "          valid_pred += outputs.argmax(1).detach().cpu().numpy().tolist()\n",
        "          valid_y += targets.detach().cpu().numpy().tolist()\n",
        "    \n",
        "    train_f1 = score_function(train_y, train_pred)\n",
        "    valid_f1 = score_function(valid_y, valid_pred)\n",
        "\n",
        "    TIME = time.time() - start\n",
        "    print(f'epoch : {epoch+1}/{epochs}    time : {TIME:.0f}s/{TIME*(epochs-epoch-1):.0f}s')\n",
        "    print(f'TRAIN    loss : {train_loss:.5f}    f1 : {train_f1:.5f}')\n",
        "    print(f'valid    loss : {valid_loss:.5f}    f1 : {valid_f1:.5f}')\n",
        "    lr_scheduler.step()\n",
        "\n",
        "    torch.save(model.state_dict(), f'{train_loss}_{train_f1}.pth')"
      ],
      "id": "QplKmNaD5h3b"
    }
  ],
  "metadata": {
    "accelerator": "GPU",
    "colab": {
      "collapsed_sections": [],
      "machine_shape": "hm",
      "name": "Add valid, transforms.ipynb",
      "provenance": [],
      "include_colab_link": true
    },
    "gpuClass": "standard",
    "kernelspec": {
      "display_name": "Python 3",
      "name": "python3"
    },
    "language_info": {
      "name": "python"
    },
    "widgets": {
      "application/vnd.jupyter.widget-state+json": {
        "d931211679e24f95b8d78b9780a61b0f": {
          "model_module": "@jupyter-widgets/controls",
          "model_name": "HBoxModel",
          "model_module_version": "1.5.0",
          "state": {
            "_dom_classes": [],
            "_model_module": "@jupyter-widgets/controls",
            "_model_module_version": "1.5.0",
            "_model_name": "HBoxModel",
            "_view_count": null,
            "_view_module": "@jupyter-widgets/controls",
            "_view_module_version": "1.5.0",
            "_view_name": "HBoxView",
            "box_style": "",
            "children": [
              "IPY_MODEL_817f320d382e44fb8ccc6903dae1175c",
              "IPY_MODEL_e18c2fabd48e475ba67753917763bd19",
              "IPY_MODEL_2f70ac475c684e7da7796642b53120e7"
            ],
            "layout": "IPY_MODEL_1d40c790c3b74d6bb63fd9a43cd5c8f7"
          }
        },
        "817f320d382e44fb8ccc6903dae1175c": {
          "model_module": "@jupyter-widgets/controls",
          "model_name": "HTMLModel",
          "model_module_version": "1.5.0",
          "state": {
            "_dom_classes": [],
            "_model_module": "@jupyter-widgets/controls",
            "_model_module_version": "1.5.0",
            "_model_name": "HTMLModel",
            "_view_count": null,
            "_view_module": "@jupyter-widgets/controls",
            "_view_module_version": "1.5.0",
            "_view_name": "HTMLView",
            "description": "",
            "description_tooltip": null,
            "layout": "IPY_MODEL_ea1dbe5b26f44146ad2df621de3e4917",
            "placeholder": "​",
            "style": "IPY_MODEL_a1e3b859129d4d3db526b95377ba4e15",
            "value": "100%"
          }
        },
        "e18c2fabd48e475ba67753917763bd19": {
          "model_module": "@jupyter-widgets/controls",
          "model_name": "FloatProgressModel",
          "model_module_version": "1.5.0",
          "state": {
            "_dom_classes": [],
            "_model_module": "@jupyter-widgets/controls",
            "_model_module_version": "1.5.0",
            "_model_name": "FloatProgressModel",
            "_view_count": null,
            "_view_module": "@jupyter-widgets/controls",
            "_view_module_version": "1.5.0",
            "_view_name": "ProgressView",
            "bar_style": "success",
            "description": "",
            "description_tooltip": null,
            "layout": "IPY_MODEL_1455f09ded874d4ba1a602bcc419d04f",
            "max": 86721253,
            "min": 0,
            "orientation": "horizontal",
            "style": "IPY_MODEL_fa2bf557ea3b4e67915a48d48c1b15fa",
            "value": 86721253
          }
        },
        "2f70ac475c684e7da7796642b53120e7": {
          "model_module": "@jupyter-widgets/controls",
          "model_name": "HTMLModel",
          "model_module_version": "1.5.0",
          "state": {
            "_dom_classes": [],
            "_model_module": "@jupyter-widgets/controls",
            "_model_module_version": "1.5.0",
            "_model_name": "HTMLModel",
            "_view_count": null,
            "_view_module": "@jupyter-widgets/controls",
            "_view_module_version": "1.5.0",
            "_view_name": "HTMLView",
            "description": "",
            "description_tooltip": null,
            "layout": "IPY_MODEL_168f80f73c314dcaa6ab6b281ebbafd6",
            "placeholder": "​",
            "style": "IPY_MODEL_79d7ddf28daf4e1b8a8311473e4a435d",
            "value": " 82.7M/82.7M [00:01&lt;00:00, 63.5MB/s]"
          }
        },
        "1d40c790c3b74d6bb63fd9a43cd5c8f7": {
          "model_module": "@jupyter-widgets/base",
          "model_name": "LayoutModel",
          "model_module_version": "1.2.0",
          "state": {
            "_model_module": "@jupyter-widgets/base",
            "_model_module_version": "1.2.0",
            "_model_name": "LayoutModel",
            "_view_count": null,
            "_view_module": "@jupyter-widgets/base",
            "_view_module_version": "1.2.0",
            "_view_name": "LayoutView",
            "align_content": null,
            "align_items": null,
            "align_self": null,
            "border": null,
            "bottom": null,
            "display": null,
            "flex": null,
            "flex_flow": null,
            "grid_area": null,
            "grid_auto_columns": null,
            "grid_auto_flow": null,
            "grid_auto_rows": null,
            "grid_column": null,
            "grid_gap": null,
            "grid_row": null,
            "grid_template_areas": null,
            "grid_template_columns": null,
            "grid_template_rows": null,
            "height": null,
            "justify_content": null,
            "justify_items": null,
            "left": null,
            "margin": null,
            "max_height": null,
            "max_width": null,
            "min_height": null,
            "min_width": null,
            "object_fit": null,
            "object_position": null,
            "order": null,
            "overflow": null,
            "overflow_x": null,
            "overflow_y": null,
            "padding": null,
            "right": null,
            "top": null,
            "visibility": null,
            "width": null
          }
        },
        "ea1dbe5b26f44146ad2df621de3e4917": {
          "model_module": "@jupyter-widgets/base",
          "model_name": "LayoutModel",
          "model_module_version": "1.2.0",
          "state": {
            "_model_module": "@jupyter-widgets/base",
            "_model_module_version": "1.2.0",
            "_model_name": "LayoutModel",
            "_view_count": null,
            "_view_module": "@jupyter-widgets/base",
            "_view_module_version": "1.2.0",
            "_view_name": "LayoutView",
            "align_content": null,
            "align_items": null,
            "align_self": null,
            "border": null,
            "bottom": null,
            "display": null,
            "flex": null,
            "flex_flow": null,
            "grid_area": null,
            "grid_auto_columns": null,
            "grid_auto_flow": null,
            "grid_auto_rows": null,
            "grid_column": null,
            "grid_gap": null,
            "grid_row": null,
            "grid_template_areas": null,
            "grid_template_columns": null,
            "grid_template_rows": null,
            "height": null,
            "justify_content": null,
            "justify_items": null,
            "left": null,
            "margin": null,
            "max_height": null,
            "max_width": null,
            "min_height": null,
            "min_width": null,
            "object_fit": null,
            "object_position": null,
            "order": null,
            "overflow": null,
            "overflow_x": null,
            "overflow_y": null,
            "padding": null,
            "right": null,
            "top": null,
            "visibility": null,
            "width": null
          }
        },
        "a1e3b859129d4d3db526b95377ba4e15": {
          "model_module": "@jupyter-widgets/controls",
          "model_name": "DescriptionStyleModel",
          "model_module_version": "1.5.0",
          "state": {
            "_model_module": "@jupyter-widgets/controls",
            "_model_module_version": "1.5.0",
            "_model_name": "DescriptionStyleModel",
            "_view_count": null,
            "_view_module": "@jupyter-widgets/base",
            "_view_module_version": "1.2.0",
            "_view_name": "StyleView",
            "description_width": ""
          }
        },
        "1455f09ded874d4ba1a602bcc419d04f": {
          "model_module": "@jupyter-widgets/base",
          "model_name": "LayoutModel",
          "model_module_version": "1.2.0",
          "state": {
            "_model_module": "@jupyter-widgets/base",
            "_model_module_version": "1.2.0",
            "_model_name": "LayoutModel",
            "_view_count": null,
            "_view_module": "@jupyter-widgets/base",
            "_view_module_version": "1.2.0",
            "_view_name": "LayoutView",
            "align_content": null,
            "align_items": null,
            "align_self": null,
            "border": null,
            "bottom": null,
            "display": null,
            "flex": null,
            "flex_flow": null,
            "grid_area": null,
            "grid_auto_columns": null,
            "grid_auto_flow": null,
            "grid_auto_rows": null,
            "grid_column": null,
            "grid_gap": null,
            "grid_row": null,
            "grid_template_areas": null,
            "grid_template_columns": null,
            "grid_template_rows": null,
            "height": null,
            "justify_content": null,
            "justify_items": null,
            "left": null,
            "margin": null,
            "max_height": null,
            "max_width": null,
            "min_height": null,
            "min_width": null,
            "object_fit": null,
            "object_position": null,
            "order": null,
            "overflow": null,
            "overflow_x": null,
            "overflow_y": null,
            "padding": null,
            "right": null,
            "top": null,
            "visibility": null,
            "width": null
          }
        },
        "fa2bf557ea3b4e67915a48d48c1b15fa": {
          "model_module": "@jupyter-widgets/controls",
          "model_name": "ProgressStyleModel",
          "model_module_version": "1.5.0",
          "state": {
            "_model_module": "@jupyter-widgets/controls",
            "_model_module_version": "1.5.0",
            "_model_name": "ProgressStyleModel",
            "_view_count": null,
            "_view_module": "@jupyter-widgets/base",
            "_view_module_version": "1.2.0",
            "_view_name": "StyleView",
            "bar_color": null,
            "description_width": ""
          }
        },
        "168f80f73c314dcaa6ab6b281ebbafd6": {
          "model_module": "@jupyter-widgets/base",
          "model_name": "LayoutModel",
          "model_module_version": "1.2.0",
          "state": {
            "_model_module": "@jupyter-widgets/base",
            "_model_module_version": "1.2.0",
            "_model_name": "LayoutModel",
            "_view_count": null,
            "_view_module": "@jupyter-widgets/base",
            "_view_module_version": "1.2.0",
            "_view_name": "LayoutView",
            "align_content": null,
            "align_items": null,
            "align_self": null,
            "border": null,
            "bottom": null,
            "display": null,
            "flex": null,
            "flex_flow": null,
            "grid_area": null,
            "grid_auto_columns": null,
            "grid_auto_flow": null,
            "grid_auto_rows": null,
            "grid_column": null,
            "grid_gap": null,
            "grid_row": null,
            "grid_template_areas": null,
            "grid_template_columns": null,
            "grid_template_rows": null,
            "height": null,
            "justify_content": null,
            "justify_items": null,
            "left": null,
            "margin": null,
            "max_height": null,
            "max_width": null,
            "min_height": null,
            "min_width": null,
            "object_fit": null,
            "object_position": null,
            "order": null,
            "overflow": null,
            "overflow_x": null,
            "overflow_y": null,
            "padding": null,
            "right": null,
            "top": null,
            "visibility": null,
            "width": null
          }
        },
        "79d7ddf28daf4e1b8a8311473e4a435d": {
          "model_module": "@jupyter-widgets/controls",
          "model_name": "DescriptionStyleModel",
          "model_module_version": "1.5.0",
          "state": {
            "_model_module": "@jupyter-widgets/controls",
            "_model_module_version": "1.5.0",
            "_model_name": "DescriptionStyleModel",
            "_view_count": null,
            "_view_module": "@jupyter-widgets/base",
            "_view_module_version": "1.2.0",
            "_view_name": "StyleView",
            "description_width": ""
          }
        }
      }
    }
  },
  "nbformat": 4,
  "nbformat_minor": 5
}